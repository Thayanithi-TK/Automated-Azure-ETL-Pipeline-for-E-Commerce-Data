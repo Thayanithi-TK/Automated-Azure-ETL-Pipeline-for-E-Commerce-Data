{
 "cells": [
  {
   "cell_type": "markdown",
   "metadata": {
    "application/vnd.databricks.v1+cell": {
     "cellMetadata": {
      "byteLimit": 2048000,
      "rowLimit": 10000
     },
     "inputWidgets": {},
     "nuid": "e120a337-66ad-4be5-9fed-0d179483c44f",
     "showTitle": false,
     "tableResultSettingsMap": {},
     "title": ""
    }
   },
   "source": [
    "# Import Necessary Modules"
   ]
  },
  {
   "cell_type": "code",
   "execution_count": 0,
   "metadata": {
    "application/vnd.databricks.v1+cell": {
     "cellMetadata": {
      "byteLimit": 2048000,
      "rowLimit": 10000
     },
     "inputWidgets": {},
     "nuid": "8a78d7cb-9edd-4449-bed6-bbb1dcfaa1ea",
     "showTitle": false,
     "tableResultSettingsMap": {},
     "title": ""
    }
   },
   "outputs": [],
   "source": [
    "from pyspark.sql.functions import trim, col, lit, when, try_to_date, date_format, count, date_add, round, split, date_sub"
   ]
  },
  {
   "cell_type": "markdown",
   "metadata": {
    "application/vnd.databricks.v1+cell": {
     "cellMetadata": {
      "byteLimit": 2048000,
      "rowLimit": 10000
     },
     "inputWidgets": {},
     "nuid": "b93663a0-3842-4060-a4b8-200859a1c171",
     "showTitle": false,
     "tableResultSettingsMap": {},
     "title": ""
    }
   },
   "source": [
    "# Read Data"
   ]
  },
  {
   "cell_type": "code",
   "execution_count": 0,
   "metadata": {
    "application/vnd.databricks.v1+cell": {
     "cellMetadata": {
      "byteLimit": 2048000,
      "rowLimit": 10000
     },
     "inputWidgets": {},
     "nuid": "2d289c80-5678-4855-ba8f-7b7e85145deb",
     "showTitle": false,
     "tableResultSettingsMap": {},
     "title": ""
    }
   },
   "outputs": [],
   "source": [
    "df_silver = spark.read.format(\"parquet\") \\\n",
    "    .load(\"abfss://bronze@globalsalestorage.dfs.core.windows.net/Raw_Data\")"
   ]
  },
  {
   "cell_type": "code",
   "execution_count": 0,
   "metadata": {
    "application/vnd.databricks.v1+cell": {
     "cellMetadata": {},
     "inputWidgets": {},
     "nuid": "3b59967a-94ae-4fff-b613-b3cae60a6ed9",
     "showTitle": false,
     "tableResultSettingsMap": {},
     "title": ""
    }
   },
   "outputs": [],
   "source": [
    "df_silver.display()"
   ]
  },
  {
   "cell_type": "markdown",
   "metadata": {
    "application/vnd.databricks.v1+cell": {
     "cellMetadata": {
      "byteLimit": 2048000,
      "rowLimit": 10000
     },
     "inputWidgets": {},
     "nuid": "b23ee8af-7bfa-4741-83de-ceede13a8bb2",
     "showTitle": false,
     "tableResultSettingsMap": {},
     "title": ""
    }
   },
   "source": [
    "# Schema validation"
   ]
  },
  {
   "cell_type": "markdown",
   "metadata": {
    "application/vnd.databricks.v1+cell": {
     "cellMetadata": {
      "byteLimit": 2048000,
      "rowLimit": 10000
     },
     "inputWidgets": {},
     "nuid": "f7aad539-2943-4a8a-9bff-97c0446ef0c4",
     "showTitle": false,
     "tableResultSettingsMap": {},
     "title": ""
    }
   },
   "source": [
    "## Convert DataType - Date Columns\n"
   ]
  },
  {
   "cell_type": "code",
   "execution_count": 0,
   "metadata": {
    "application/vnd.databricks.v1+cell": {
     "cellMetadata": {
      "byteLimit": 2048000,
      "rowLimit": 10000
     },
     "inputWidgets": {},
     "nuid": "cba6c301-5ed2-4e16-96c1-bf11a1e73587",
     "showTitle": false,
     "tableResultSettingsMap": {},
     "title": ""
    },
    "jupyter": {
     "outputs_hidden": true
    }
   },
   "outputs": [],
   "source": [
    "# Trim leading and trailing spaces from Order_Date and Ship_Date columns\n",
    "df_silver = df_silver.withColumn(\"Order_Date\", trim(col(\"Order_Date\"))) \\\n",
    "                     .withColumn(\"Ship_Date\", trim(col(\"Ship_Date\")))\n",
    "\n",
    "# Convert Order_Date and Ship_Date columns to date format\n",
    "df_silver = df_silver.withColumn(\"Order_Date\", try_to_date(col(\"Order_Date\"), \"yyyy-MM-dd\")) \\\n",
    "                     .withColumn(\"Ship_Date\", try_to_date(col(\"Ship_Date\"), \"yyyy-MM-dd\"))\n"
   ]
  },
  {
   "cell_type": "markdown",
   "metadata": {
    "application/vnd.databricks.v1+cell": {
     "cellMetadata": {
      "byteLimit": 2048000,
      "rowLimit": 10000
     },
     "inputWidgets": {},
     "nuid": "2e1519ef-3b57-46be-a077-2abdf4dc9fff",
     "showTitle": false,
     "tableResultSettingsMap": {},
     "title": ""
    }
   },
   "source": [
    "# Check for Nulls / Missing Values"
   ]
  },
  {
   "cell_type": "markdown",
   "metadata": {
    "application/vnd.databricks.v1+cell": {
     "cellMetadata": {
      "byteLimit": 2048000,
      "rowLimit": 10000
     },
     "inputWidgets": {},
     "nuid": "2e49b363-128d-4b91-87c7-132121418c09",
     "showTitle": false,
     "tableResultSettingsMap": {},
     "title": ""
    }
   },
   "source": [
    "**Check Order_ID Valide - If Invalide Write Date to RejectData Condainer**"
   ]
  },
  {
   "cell_type": "code",
   "execution_count": 0,
   "metadata": {
    "application/vnd.databricks.v1+cell": {
     "cellMetadata": {
      "byteLimit": 2048000,
      "rowLimit": 10000
     },
     "inputWidgets": {},
     "nuid": "15009180-8910-4348-ad41-cb76c356f1f9",
     "showTitle": false,
     "tableResultSettingsMap": {},
     "title": ""
    }
   },
   "outputs": [],
   "source": [
    "invalid_order_id = df_silver.filter(col(\"Order_ID\").isNull())  # Filter rows with null Order_ID\n",
    "\n",
    "if invalid_order_id.count() > 0:\n",
    "    invalid_order_id.write\\\n",
    "        .format(\"delta\")\\\n",
    "        .mode(\"append\")\\\n",
    "        .save(\"abfss://rejectdata@globalsalestorage.dfs.core.windows.net/e_commerce/invalid_order_id\")"
   ]
  },
  {
   "cell_type": "code",
   "execution_count": 0,
   "metadata": {
    "application/vnd.databricks.v1+cell": {
     "cellMetadata": {
      "byteLimit": 2048000,
      "rowLimit": 10000
     },
     "inputWidgets": {},
     "nuid": "37b508df-421a-476d-8b4e-d016ef405636",
     "showTitle": false,
     "tableResultSettingsMap": {},
     "title": ""
    }
   },
   "outputs": [],
   "source": [
    "df_silver = df_silver.dropDuplicates([\"Order_ID\"]) # Remove duplicate rows based on Order_ID\n",
    "df_silver = df_silver.filter(col(\"Order_ID\").isNotNull())  # Remove rows with null Order_ID"
   ]
  },
  {
   "cell_type": "markdown",
   "metadata": {
    "application/vnd.databricks.v1+cell": {
     "cellMetadata": {
      "byteLimit": 2048000,
      "rowLimit": 10000
     },
     "inputWidgets": {},
     "nuid": "70f349bd-7c8a-4687-a2da-2fbb7d218078",
     "showTitle": false,
     "tableResultSettingsMap": {},
     "title": ""
    }
   },
   "source": [
    "**Get Order_ID & Customer_ID & Product_ID**"
   ]
  },
  {
   "cell_type": "code",
   "execution_count": 0,
   "metadata": {
    "application/vnd.databricks.v1+cell": {
     "cellMetadata": {
      "byteLimit": 2048000,
      "rowLimit": 10000
     },
     "inputWidgets": {},
     "nuid": "85a1b2e7-4279-438e-9d9e-963a6fa8e616",
     "showTitle": false,
     "tableResultSettingsMap": {},
     "title": ""
    }
   },
   "outputs": [],
   "source": [
    "df_silver=df_silver.withColumn(\"Order_ID\",split(col(\"Order_ID\"),\"-\").getItem(0))\n",
    "df_silver = df_silver.withColumn(\"Customer_ID\",split(col(\"Customer_ID\"),\"-\").getItem(0))\n",
    "df_silver = df_silver.withColumn(\"Product_ID\",split(col(\"Product_ID\"),\"-\").getItem(0))"
   ]
  },
  {
   "cell_type": "markdown",
   "metadata": {
    "application/vnd.databricks.v1+cell": {
     "cellMetadata": {
      "byteLimit": 2048000,
      "rowLimit": 10000
     },
     "inputWidgets": {},
     "nuid": "96ad8449-8208-4ec4-8ac3-137be75430a9",
     "showTitle": false,
     "tableResultSettingsMap": {},
     "title": ""
    }
   },
   "source": [
    "**Check Customer_ID Valide - If Invalide Write Date to RejectData Condainer**"
   ]
  },
  {
   "cell_type": "code",
   "execution_count": 0,
   "metadata": {
    "application/vnd.databricks.v1+cell": {
     "cellMetadata": {
      "byteLimit": 2048000,
      "rowLimit": 10000
     },
     "inputWidgets": {},
     "nuid": "d8584959-991e-4463-8089-5118e07a416f",
     "showTitle": false,
     "tableResultSettingsMap": {},
     "title": ""
    }
   },
   "outputs": [],
   "source": [
    "invalid_customer_id = df_silver.filter(col(\"Customer_ID\").isNull())  # Filter rows with null Customer_ID\n",
    "\n",
    "if invalid_customer_id.count() > 0:\n",
    "    invalid_customer_id.write\\\n",
    "        .format(\"delta\")\\\n",
    "        .mode(\"append\")\\\n",
    "        .save(\"abfss://rejectdata@globalsalestorage.dfs.core.windows.net/e_commerce/invalid_customer_id\")"
   ]
  },
  {
   "cell_type": "code",
   "execution_count": 0,
   "metadata": {
    "application/vnd.databricks.v1+cell": {
     "cellMetadata": {
      "byteLimit": 2048000,
      "rowLimit": 10000
     },
     "inputWidgets": {},
     "nuid": "0083f242-3131-45f9-99f5-ff8b1bbd951f",
     "showTitle": false,
     "tableResultSettingsMap": {},
     "title": ""
    }
   },
   "outputs": [],
   "source": [
    "df_silver = df_silver.filter(col(\"Customer_ID\").isNotNull())  # Remove rows with null Order_ID"
   ]
  },
  {
   "cell_type": "markdown",
   "metadata": {
    "application/vnd.databricks.v1+cell": {
     "cellMetadata": {
      "byteLimit": 2048000,
      "rowLimit": 10000
     },
     "inputWidgets": {},
     "nuid": "2fc7a129-f537-4795-b4b9-768bbd49a35c",
     "showTitle": false,
     "tableResultSettingsMap": {},
     "title": ""
    }
   },
   "source": [
    "**Check Order_Date & Ship_Date Valide - If Invalide Write Date to RejectData Condainer**"
   ]
  },
  {
   "cell_type": "code",
   "execution_count": 0,
   "metadata": {
    "application/vnd.databricks.v1+cell": {
     "cellMetadata": {
      "byteLimit": 2048000,
      "rowLimit": 10000
     },
     "inputWidgets": {},
     "nuid": "46031ee6-f440-46ae-9b78-9eba267c2e4d",
     "showTitle": false,
     "tableResultSettingsMap": {},
     "title": ""
    }
   },
   "outputs": [],
   "source": [
    "df_reject = df_silver.filter(col(\"Order_Date\").isNull() & col(\"Ship_Date\").isNull())\n",
    "\n",
    "if df_reject.count() > 0:\n",
    "    df_reject.write\\\n",
    "        .format(\"delta\")\\\n",
    "        .mode(\"append\")\\\n",
    "        .save(\"abfss://rejectdata@globalsalestorage.dfs.core.windows.net/e_commerce/invalid_date\")\n",
    "\n"
   ]
  },
  {
   "cell_type": "code",
   "execution_count": 0,
   "metadata": {
    "application/vnd.databricks.v1+cell": {
     "cellMetadata": {
      "byteLimit": 2048000,
      "rowLimit": 10000
     },
     "inputWidgets": {},
     "nuid": "6ee41236-8a53-4ad2-8d1e-98b951b5932b",
     "showTitle": false,
     "tableResultSettingsMap": {},
     "title": ""
    }
   },
   "outputs": [],
   "source": [
    "df_silver = df_silver.filter(col(\"Order_Date\").isNotNull() & col(\"Ship_Date\").isNotNull())\n"
   ]
  },
  {
   "cell_type": "code",
   "execution_count": 0,
   "metadata": {
    "application/vnd.databricks.v1+cell": {
     "cellMetadata": {
      "byteLimit": 2048000,
      "rowLimit": 10000
     },
     "inputWidgets": {},
     "nuid": "c2a85819-1cc0-4c55-93ac-bde52953b1f8",
     "showTitle": false,
     "tableResultSettingsMap": {},
     "title": ""
    }
   },
   "outputs": [],
   "source": [
    "null_count_od = df_silver.filter(col(\"Order_Date\").isNull()).count()\n",
    "null_count_sd = df_silver.filter(col(\"Ship_Date\").isNull()).count()\n",
    "\n",
    "if null_count_od > 0 or null_count_sd > 0:\n",
    "    df_silver = df_silver.withColumn(\n",
    "        \"Order_Date\",\n",
    "        when(col(\"Order_Date\").isNull() & col(\"Ship_Date\").isNotNull(), date_sub(col(\"Ship_Date\"), 2))\n",
    "        .otherwise(col(\"Order_Date\"))\n",
    "    ).withColumn(\n",
    "        \"Ship_Date\",\n",
    "        when(col(\"Ship_Date\").isNull() & col(\"Order_Date\").isNotNull(), date_add(col(\"Order_Date\"), 2))\n",
    "        .otherwise(col(\"Ship_Date\"))\n",
    "    )"
   ]
  },
  {
   "cell_type": "code",
   "execution_count": 0,
   "metadata": {
    "application/vnd.databricks.v1+cell": {
     "cellMetadata": {
      "byteLimit": 2048000,
      "rowLimit": 10000
     },
     "inputWidgets": {},
     "nuid": "b95d9230-2287-4a36-b1a3-413f4dfbfa49",
     "showTitle": false,
     "tableResultSettingsMap": {},
     "title": ""
    }
   },
   "outputs": [],
   "source": [
    "count_invalid_dates = df_silver.filter(col(\"Order_Date\") > col(\"Ship_Date\")).count()\n",
    "\n",
    "if count_invalid_dates > 0:\n",
    "    df_silver = df_silver.withColumn(\n",
    "        \"Ship_Date\",\n",
    "        when(col(\"Order_Date\") > col(\"Ship_Date\"), date_add(col(\"Order_Date\"), 2))\n",
    "        .otherwise(col(\"Ship_Date\"))\n",
    "    )"
   ]
  },
  {
   "cell_type": "markdown",
   "metadata": {
    "application/vnd.databricks.v1+cell": {
     "cellMetadata": {
      "byteLimit": 2048000,
      "rowLimit": 10000
     },
     "inputWidgets": {},
     "nuid": "16a1cc4d-a8f2-4695-b016-f9f999a8eb8e",
     "showTitle": false,
     "tableResultSettingsMap": {},
     "title": ""
    }
   },
   "source": [
    "#Strip spaces from all string columns"
   ]
  },
  {
   "cell_type": "code",
   "execution_count": 0,
   "metadata": {
    "application/vnd.databricks.v1+cell": {
     "cellMetadata": {
      "byteLimit": 2048000,
      "rowLimit": 10000
     },
     "inputWidgets": {},
     "nuid": "02b18b58-c8f1-4119-945a-d3c83d058f3d",
     "showTitle": false,
     "tableResultSettingsMap": {},
     "title": ""
    }
   },
   "outputs": [],
   "source": [
    "# Get all string columns\n",
    "string_cols = [c for c, t in df_silver.dtypes if t == \"string\"]\n",
    "\n",
    "# Apply trim to all string columns\n",
    "for c in string_cols:\n",
    "    df_silver = df_silver.withColumn(c, trim(col(c)))"
   ]
  },
  {
   "cell_type": "markdown",
   "metadata": {
    "application/vnd.databricks.v1+cell": {
     "cellMetadata": {
      "byteLimit": 2048000,
      "rowLimit": 10000
     },
     "inputWidgets": {},
     "nuid": "02e1fd5f-dbcd-475e-b5e8-283cab4ddf92",
     "showTitle": false,
     "tableResultSettingsMap": {},
     "title": ""
    }
   },
   "source": [
    "## Replace Missing value with N/A"
   ]
  },
  {
   "cell_type": "code",
   "execution_count": 0,
   "metadata": {
    "application/vnd.databricks.v1+cell": {
     "cellMetadata": {
      "byteLimit": 2048000,
      "rowLimit": 10000
     },
     "inputWidgets": {},
     "nuid": "b831b9b3-e8f0-4022-b0be-f6f75967a3f9",
     "showTitle": false,
     "tableResultSettingsMap": {},
     "title": ""
    }
   },
   "outputs": [],
   "source": [
    "# Replace null or empty values with \"N/A\" for string columns\n",
    "df_silver = df_silver.withColumn(\n",
    "    \"Customer_Name\",\n",
    "    when(col(\"Customer_Name\").isNull() | (col(\"Customer_Name\") == \"\"), lit(\"N/A\"))\n",
    "    .otherwise(col(\"Customer_Name\"))\n",
    ")\n",
    "\n",
    "df_silver = df_silver.withColumn(\n",
    "    \"Segment\",\n",
    "    when(col(\"Segment\").isNull() | (col(\"Segment\") == \"\"), lit(\"N/A\"))\n",
    "    .otherwise(col(\"Segment\"))\n",
    ")\n",
    "\n",
    "df_silver = df_silver.withColumn(\n",
    "    \"City\",\n",
    "    when(col(\"City\").isNull() | (col(\"City\") == \"\"), lit(\"N/A\"))\n",
    "    .otherwise(col(\"City\"))\n",
    ")\n",
    "\n",
    "df_silver = df_silver.withColumn(\n",
    "    \"State\",\n",
    "    when(col(\"State\").isNull() | (col(\"State\") == \"\"), lit(\"N/A\"))\n",
    "    .otherwise(col(\"State\"))\n",
    ")\n",
    "\n",
    "df_silver = df_silver.withColumn(\n",
    "    \"Country\",\n",
    "    when(col(\"Country\").isNull() | (col(\"Country\") == \"\"), lit(\"N/A\"))\n",
    "    .otherwise(col(\"Country\"))\n",
    ")\n",
    "\n",
    "df_silver = df_silver.withColumn(\n",
    "    \"Region\",\n",
    "    when(col(\"Region\").isNull() | (col(\"Region\") == \"\"), lit(\"N/A\"))\n",
    "    .otherwise(col(\"Region\"))\n",
    ")\n",
    "\n",
    "df_silver = df_silver.withColumn(\n",
    "    \"Product_Name\",\n",
    "    when(col(\"Product_Name\").isNull() | (col(\"Product_Name\") == \"\"), lit(\"N/A\"))\n",
    "    .otherwise(col(\"Product_Name\"))\n",
    ")\n",
    "\n",
    "df_silver = df_silver.withColumn(\n",
    "    \"Category\",\n",
    "    when(col(\"Category\").isNull() | (col(\"Category\") == \"\"), lit(\"N/A\"))\n",
    "    .otherwise(col(\"Category\"))\n",
    ")\n",
    "\n",
    "df_silver = df_silver.withColumn(\n",
    "    \"Sub_Category\",\n",
    "    when(col(\"Sub_Category\").isNull() | (col(\"Sub_Category\") == \"\"), lit(\"N/A\"))\n",
    "    .otherwise(col(\"Sub_Category\"))\n",
    ")\n",
    "\n",
    "df_silver = df_silver.withColumn(\n",
    "    \"Order_Priority\",\n",
    "    when(col(\"Order_Priority\").isNull() | (col(\"Order_Priority\") == \"\"), lit(\"N/A\"))\n",
    "    .otherwise(col(\"Order_Priority\"))\n",
    ")"
   ]
  },
  {
   "cell_type": "markdown",
   "metadata": {
    "application/vnd.databricks.v1+cell": {
     "cellMetadata": {
      "byteLimit": 2048000,
      "rowLimit": 10000
     },
     "inputWidgets": {},
     "nuid": "28419655-e07d-419f-a78a-8a380bca1bfa",
     "showTitle": false,
     "tableResultSettingsMap": {},
     "title": ""
    }
   },
   "source": [
    "# Clean Numeric Columns (sales,quantity,discount,profit)"
   ]
  },
  {
   "cell_type": "code",
   "execution_count": 0,
   "metadata": {
    "application/vnd.databricks.v1+cell": {
     "cellMetadata": {
      "byteLimit": 2048000,
      "rowLimit": 10000
     },
     "inputWidgets": {},
     "nuid": "0de99721-08d4-4d4a-9438-cab58e28eb33",
     "showTitle": false,
     "tableResultSettingsMap": {},
     "title": ""
    }
   },
   "outputs": [],
   "source": [
    "from pyspark.sql.functions import col, when, lit, abs, bround\n",
    "\n",
    "df_silver = df_silver.withColumn(\n",
    "    \"Quantity\",\n",
    "    when(col(\"Quantity\").isNull(), lit(0)).otherwise(abs(col(\"Quantity\")))\n",
    ")\n",
    "\n",
    "df_silver = df_silver.withColumn(\n",
    "    \"Sales\",\n",
    "    when(col(\"Sales\").isNull(), lit(0)).otherwise(abs(col(\"Sales\")))\n",
    ")\n",
    "\n",
    "df_silver = df_silver.withColumn(\n",
    "    \"Shipping_Cost\",\n",
    "    when(col(\"Shipping_Cost\").isNull() | (col(\"Shipping_Cost\") < 0), lit(0)).otherwise(col(\"Shipping_Cost\"))\n",
    ")\n",
    "\n",
    "df_silver = df_silver.withColumn(\n",
    "    \"Discount\",\n",
    "    when(col(\"Discount\").isNull() | (col(\"Discount\") < 0) | (col(\"Discount\") > 1), lit(0)).otherwise(col(\"Discount\"))\n",
    ")\n",
    "\n",
    "df_silver = df_silver.withColumn(\n",
    "    \"Profit\",\n",
    "    col(\"Sales\") * (1 - col(\"Discount\"))\n",
    ")\n",
    "\n",
    "df_silver = df_silver.withColumn(\n",
    "    \"price\",\n",
    "    bround(when(col(\"Quantity\") == 0, lit(0)).otherwise(col(\"Sales\") / col(\"Quantity\")), 2 )\n",
    ")"
   ]
  },
  {
   "cell_type": "markdown",
   "metadata": {
    "application/vnd.databricks.v1+cell": {
     "cellMetadata": {
      "byteLimit": 2048000,
      "rowLimit": 10000
     },
     "inputWidgets": {},
     "nuid": "b313e305-d91b-4c56-888b-83b65591615c",
     "showTitle": false,
     "tableResultSettingsMap": {},
     "title": ""
    }
   },
   "source": [
    "# Write Date to Silver Layer"
   ]
  },
  {
   "cell_type": "code",
   "execution_count": 0,
   "metadata": {
    "application/vnd.databricks.v1+cell": {
     "cellMetadata": {
      "byteLimit": 2048000,
      "rowLimit": 10000
     },
     "inputWidgets": {},
     "nuid": "22ed5adb-dc19-4f4c-be44-96ada9d10cd0",
     "showTitle": false,
     "tableResultSettingsMap": {},
     "title": ""
    }
   },
   "outputs": [],
   "source": [
    "df_silver.write.format(\"parquet\").mode(\"overwrite\").save(\"abfss://silver@globalsalestorage.dfs.core.windows.net/clean_e_commerce_data\")"
   ]
  }
 ],
 "metadata": {
  "application/vnd.databricks.v1+notebook": {
   "computePreferences": null,
   "dashboards": [],
   "environmentMetadata": {
    "base_environment": "",
    "environment_version": "3"
   },
   "inputWidgetPreferences": null,
   "language": "python",
   "notebookMetadata": {
    "pythonIndentUnit": 4
   },
   "notebookName": "Data Tranformations",
   "widgets": {}
  },
  "language_info": {
   "name": "python"
  }
 },
 "nbformat": 4,
 "nbformat_minor": 0
}