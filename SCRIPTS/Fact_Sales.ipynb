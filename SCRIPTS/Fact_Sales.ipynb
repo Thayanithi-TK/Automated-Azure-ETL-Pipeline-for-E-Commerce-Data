{
 "cells": [
  {
   "cell_type": "markdown",
   "metadata": {
    "application/vnd.databricks.v1+cell": {
     "cellMetadata": {
      "byteLimit": 2048000,
      "rowLimit": 10000
     },
     "inputWidgets": {},
     "nuid": "c0568e45-2e0b-4929-a629-9aab2f7684e8",
     "showTitle": false,
     "tableResultSettingsMap": {},
     "title": ""
    }
   },
   "source": [
    "#Import necessary modules"
   ]
  },
  {
   "cell_type": "code",
   "execution_count": 0,
   "metadata": {
    "application/vnd.databricks.v1+cell": {
     "cellMetadata": {
      "byteLimit": 2048000,
      "rowLimit": 10000
     },
     "inputWidgets": {},
     "nuid": "e75496c2-cfd4-415d-aad9-a5fc4c953d58",
     "showTitle": false,
     "tableResultSettingsMap": {},
     "title": ""
    }
   },
   "outputs": [],
   "source": [
    "from pyspark.sql.functions import col\n",
    "from delta.tables import DeltaTable"
   ]
  },
  {
   "cell_type": "markdown",
   "metadata": {
    "application/vnd.databricks.v1+cell": {
     "cellMetadata": {
      "byteLimit": 2048000,
      "rowLimit": 10000
     },
     "inputWidgets": {},
     "nuid": "d01a73a1-9e2f-4fd4-a1bb-2634f2c73eda",
     "showTitle": false,
     "tableResultSettingsMap": {},
     "title": ""
    }
   },
   "source": [
    "# Read Source"
   ]
  },
  {
   "cell_type": "code",
   "execution_count": 0,
   "metadata": {
    "application/vnd.databricks.v1+cell": {
     "cellMetadata": {
      "byteLimit": 2048000,
      "implicitDf": true,
      "rowLimit": 10000
     },
     "inputWidgets": {},
     "nuid": "dd2ff2df-2c89-48a2-afe8-bfff3a9d7660",
     "showTitle": false,
     "tableResultSettingsMap": {},
     "title": ""
    }
   },
   "outputs": [],
   "source": [
    "df_src = spark.sql('''\n",
    "SELECT\n",
    "*\n",
    "FROM parquet.`abfss://silver@globalsalestorage.dfs.core.windows.net/clean_e_commerce_data`\n",
    "''')"
   ]
  },
  {
   "cell_type": "markdown",
   "metadata": {
    "application/vnd.databricks.v1+cell": {
     "cellMetadata": {
      "byteLimit": 2048000,
      "rowLimit": 10000
     },
     "inputWidgets": {},
     "nuid": "907c22e0-0066-4df5-9a1e-614a2d2e27c3",
     "showTitle": false,
     "tableResultSettingsMap": {},
     "title": ""
    }
   },
   "source": [
    "## Create Fact Table"
   ]
  },
  {
   "cell_type": "code",
   "execution_count": 0,
   "metadata": {
    "application/vnd.databricks.v1+cell": {
     "cellMetadata": {
      "byteLimit": 2048000,
      "rowLimit": 10000
     },
     "inputWidgets": {},
     "nuid": "eacb04ab-c5cd-4c5f-a2da-cf0cb82fb5ab",
     "showTitle": false,
     "tableResultSettingsMap": {},
     "title": ""
    }
   },
   "outputs": [],
   "source": [
    "df_order = spark.sql('select * from ecom_catalog.gold.dim_order')\n",
    "df_customer = spark.sql('select * from ecom_catalog.gold.dim_customer')\n",
    "df_product = spark.sql('select * from ecom_catalog.gold.dim_product')"
   ]
  },
  {
   "cell_type": "code",
   "execution_count": 0,
   "metadata": {
    "application/vnd.databricks.v1+cell": {
     "cellMetadata": {
      "byteLimit": 2048000,
      "rowLimit": 10000
     },
     "inputWidgets": {},
     "nuid": "ce348bc3-c09f-4257-9823-05ee33290736",
     "showTitle": false,
     "tableResultSettingsMap": {},
     "title": ""
    }
   },
   "outputs": [],
   "source": [
    "df_fact = df_src.join(df_customer, df_src[\"Customer_ID\"] == df_customer[\"Customer_ID\"], 'left')\\\n",
    "                .join(df_product, df_src[\"Product_ID\"] == df_product[\"Product_ID\"] ,'left')\\\n",
    "                .join(df_order, df_src[\"Order_ID\"] == df_order[\"Order_ID\"] ,'left')\\\n",
    "                .select(\n",
    "                    df_order.dim_order_key,\n",
    "                    df_customer.dim_customer_key,\n",
    "                    df_product.dim_product_key,\n",
    "                    df_src.price,\n",
    "                    df_src.Sales,\n",
    "                    df_src.Quantity,\n",
    "                    df_src.Discount,\n",
    "                    df_src.Profit,\n",
    "                    df_src.Shipping_Cost\n",
    "                )"
   ]
  },
  {
   "cell_type": "markdown",
   "metadata": {
    "application/vnd.databricks.v1+cell": {
     "cellMetadata": {
      "byteLimit": 2048000,
      "rowLimit": 10000
     },
     "inputWidgets": {},
     "nuid": "358f5cd5-505c-42be-833a-b3b2b68b3659",
     "showTitle": false,
     "tableResultSettingsMap": {},
     "title": ""
    }
   },
   "source": [
    "# Write Fact Table"
   ]
  },
  {
   "cell_type": "code",
   "execution_count": 0,
   "metadata": {
    "application/vnd.databricks.v1+cell": {
     "cellMetadata": {
      "byteLimit": 2048000,
      "rowLimit": 10000
     },
     "inputWidgets": {},
     "nuid": "c58208a2-7dd7-43d8-a08d-5ef295a79e48",
     "showTitle": false,
     "tableResultSettingsMap": {},
     "title": ""
    }
   },
   "outputs": [],
   "source": [
    "if spark.catalog.tableExists(\"ecom_catalog.gold.fact_sales\"):\n",
    "    delta_tbl = DeltaTable.forName(spark, \"ecom_catalog.gold.fact_sales\")\n",
    "    delta_tbl.alias(\"t\").merge(\n",
    "        df_fact.alias(\"s\"),\n",
    "        \"t.dim_order_key = s.dim_order_key AND t.dim_customer_key = s.dim_customer_key AND t.dim_product_key = s.dim_product_key\"\n",
    "    )\\\n",
    "    .whenMatchedUpdateAll()\\\n",
    "    .whenNotMatchedInsertAll()\\\n",
    "    .execute()\n",
    "else:\n",
    "    df_fact.write \\\n",
    "        .format(\"delta\") \\\n",
    "        .mode(\"overwrite\") \\\n",
    "        .option(\"path\", \"abfss://gold@globalsalestorage.dfs.core.windows.net/fact_sales\") \\\n",
    "        .saveAsTable(\"ecom_catalog.gold.fact_sales\")"
   ]
  }
 ],
 "metadata": {
  "application/vnd.databricks.v1+notebook": {
   "computePreferences": null,
   "dashboards": [],
   "environmentMetadata": {
    "base_environment": "",
    "environment_version": "3"
   },
   "inputWidgetPreferences": null,
   "language": "python",
   "notebookMetadata": {
    "mostRecentlyExecutedCommandWithImplicitDF": {
     "commandId": -1,
     "dataframes": [
      "_sqldf"
     ]
    },
    "pythonIndentUnit": 4
   },
   "notebookName": "Fact_Sales",
   "widgets": {}
  },
  "language_info": {
   "name": "python"
  }
 },
 "nbformat": 4,
 "nbformat_minor": 0
}